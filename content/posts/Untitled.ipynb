{
 "cells": [
  {
   "cell_type": "code",
   "execution_count": 12,
   "metadata": {},
   "outputs": [
    {
     "ename": "TypeError",
     "evalue": "can only concatenate list (not \"str\") to list",
     "output_type": "error",
     "traceback": [
      "\u001b[1;31m---------------------------------------------------------------------------\u001b[0m",
      "\u001b[1;31mTypeError\u001b[0m                                 Traceback (most recent call last)",
      "\u001b[1;32m<ipython-input-12-88ffc0beb5b7>\u001b[0m in \u001b[0;36m<module>\u001b[1;34m\u001b[0m\n\u001b[0;32m     31\u001b[0m                     \u001b[0mnewfile\u001b[0m \u001b[1;33m=\u001b[0m \u001b[0mio\u001b[0m\u001b[1;33m.\u001b[0m\u001b[0mopen\u001b[0m\u001b[1;33m(\u001b[0m\u001b[0mfilename\u001b[0m\u001b[1;33m,\u001b[0m \u001b[1;34m'w'\u001b[0m\u001b[1;33m,\u001b[0m \u001b[0mencoding\u001b[0m\u001b[1;33m=\u001b[0m\u001b[1;34m'utf8'\u001b[0m\u001b[1;33m)\u001b[0m\u001b[1;33m\u001b[0m\u001b[1;33m\u001b[0m\u001b[0m\n\u001b[0;32m     32\u001b[0m                     \u001b[0mnewfile\u001b[0m\u001b[1;33m.\u001b[0m\u001b[0mwritelines\u001b[0m\u001b[1;33m(\u001b[0m\u001b[0mFrontmatter_delimiter\u001b[0m \u001b[1;33m+\u001b[0m \u001b[1;34m'\\n'\u001b[0m\u001b[1;33m)\u001b[0m\u001b[1;33m\u001b[0m\u001b[1;33m\u001b[0m\u001b[0m\n\u001b[1;32m---> 33\u001b[1;33m                     \u001b[0mnewfile\u001b[0m\u001b[1;33m.\u001b[0m\u001b[0mwritelines\u001b[0m\u001b[1;33m(\u001b[0m\u001b[0mdata_lines\u001b[0m \u001b[1;33m+\u001b[0m \u001b[1;34m'\\n'\u001b[0m\u001b[1;33m)\u001b[0m  \u001b[1;31m# writing modified lines but loosing everything else\u001b[0m\u001b[1;33m\u001b[0m\u001b[1;33m\u001b[0m\u001b[0m\n\u001b[0m\u001b[0;32m     34\u001b[0m                     \u001b[0mnewfile\u001b[0m\u001b[1;33m.\u001b[0m\u001b[0mwritelines\u001b[0m\u001b[1;33m(\u001b[0m\u001b[0mFrontmatter_delimiter\u001b[0m \u001b[1;33m+\u001b[0m \u001b[1;34m'\\n'\u001b[0m\u001b[1;33m)\u001b[0m\u001b[1;33m\u001b[0m\u001b[1;33m\u001b[0m\u001b[0m\n\u001b[0;32m     35\u001b[0m                     \u001b[0mnewfile\u001b[0m\u001b[1;33m.\u001b[0m\u001b[0mwritelines\u001b[0m\u001b[1;33m(\u001b[0m\u001b[0mdata_after_plus\u001b[0m\u001b[1;33m)\u001b[0m \u001b[1;31m# writing the content\u001b[0m\u001b[1;33m\u001b[0m\u001b[1;33m\u001b[0m\u001b[0m\n",
      "\u001b[1;31mTypeError\u001b[0m: can only concatenate list (not \"str\") to list"
     ]
    }
   ],
   "source": [
    "import re\n",
    "import glob\n",
    "import io\n",
    "for filename in glob.glob(\"*.md\"):\n",
    "    #print(\"Reading file : \" + filename)\n",
    "    with open(filename, 'r', encoding='utf8') as myFile:\n",
    "        data = re.findall(r'\\+{3}(.*)\\+{3}(.*)',str(myFile.read()),re.DOTALL) #reading between +++ only\n",
    "        #print (type(data))\n",
    "        for file in data:\n",
    "            data_lines = file[0].strip().split('\\n')\n",
    "            data_after_plus = file[1] # after the frontmatter +++\n",
    "            #print (data_after_plus)\n",
    "            for line in data_lines:\n",
    "                if line.startswith(\"published\"):\n",
    "                    publish_date = line.split(\"=\")[1].split(\"T\")[0].split('-')\n",
    "                    year = publish_date[0].replace(\" \", \"\") #remove white space\n",
    "                    my_year_s = \"year = \\\"%s\" \"\\\"\" % year   # construct the string for year with = and \"\"\n",
    "                    #print (my_year_s)\n",
    "                    data_lines.insert(6,my_year_s) #inserting formated year into data\n",
    "                    x = [publish_date[0],publish_date[1]] #Joing month and year in a string\n",
    "            # note the [bracket we wasted with {}, that is dictoionary unsorted list\n",
    "                    s = '/'\n",
    "                    month = s.join(x).replace(\" \", \"\")\n",
    "                    my_month_s = \"\\nmonth = \\\"%s\" \"\\\"\" % month\n",
    "                    #print (my_month_s)\n",
    "                    data_lines.insert(7,my_month_s) #inserting formated month into data\n",
    "                    #print(data_lines)\n",
    "                    #print(data_after_plus)\n",
    "                    Frontmatter_delimiter = \"+++\" # Frontmatter_delimiter\n",
    "                    #print (Frontmatter_delimiter)\n",
    "                    newfile = io.open(filename, 'w', encoding='utf8')\n",
    "                    newfile.writelines(Frontmatter_delimiter + '\\n')\n",
    "                    newfile.writelines(data_lines + '\\n')  # writing modified lines but loosing everything else \n",
    "                    newfile.writelines(Frontmatter_delimiter + '\\n')\n",
    "                    newfile.writelines(data_after_plus) # writing the content\n",
    "                    newfile.close()\n",
    "\n"
   ]
  },
  {
   "cell_type": "code",
   "execution_count": null,
   "metadata": {},
   "outputs": [],
   "source": []
  }
 ],
 "metadata": {
  "kernelspec": {
   "display_name": "Python 3",
   "language": "python",
   "name": "python3"
  },
  "language_info": {
   "codemirror_mode": {
    "name": "ipython",
    "version": 3
   },
   "file_extension": ".py",
   "mimetype": "text/x-python",
   "name": "python",
   "nbconvert_exporter": "python",
   "pygments_lexer": "ipython3",
   "version": "3.7.4"
  }
 },
 "nbformat": 4,
 "nbformat_minor": 4
}
